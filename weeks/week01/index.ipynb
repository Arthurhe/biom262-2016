{
 "cells": [
  {
   "cell_type": "markdown",
   "metadata": {},
   "source": [
    "# Module 1 : Unix Basics, Data Access\n",
    "\n",
    "### Class Resources\n",
    "* [Course Syllabus](http://nbviewer.ipython.org/github/bioh4x/notebooks/blob/master/home.ipynb) \n",
    "* Lead Instructor [Dr. Gene Yeo](mailto:geneyeo@ucsd.edu \"Gene Yeo\")  \n",
    "* Teaching Assistants [Olga Botvinnik](mailto:obotvinn@ucsd.edu) and [Jamison McCorrison](mailto:jmccorri@eng.ucsd.edu)  \n",
    "\n",
    "### Table of Contents\n",
    "* [**Day 1: January 5, 2016**](#Day-1-:-January-5,-2016)\n",
    "    * [Unix Basics](#Unix-Basics)\n",
    "    * [TSCC User Guide (UCSD Server Access)](#TSCC-User-Guide)\n",
    "    * [File Download and Processing Example](#File-Download-and-Processing-Example)\n",
    "    * [Homework 1](#Homework-1)\n",
    "* [**Day 2: January 7, 2016**](#Day-2:-January-7,-2016)\n",
    "    * [Git and Github](#Git-and-Github)\n",
    "    * [Downloading Data](#Downloading-Data)\n",
    "    * [Jupyter Notebook](#Jupyter-Notebook)\n",
    "    * [Python](#Python)\n",
    "    * [Addtional Resources](#Addtional-Resources)\n"
   ]
  }
 ],
 "metadata": {
  "kernelspec": {
   "display_name": "Python 2",
   "language": "python",
   "name": "python2"
  },
  "language_info": {
   "codemirror_mode": {
    "name": "ipython",
    "version": 2
   },
   "file_extension": ".py",
   "mimetype": "text/x-python",
   "name": "python",
   "nbconvert_exporter": "python",
   "pygments_lexer": "ipython2",
   "version": "2.7.11"
  }
 },
 "nbformat": 4,
 "nbformat_minor": 0
}
