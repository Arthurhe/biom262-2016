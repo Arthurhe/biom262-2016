{
 "cells": [
  {
   "cell_type": "markdown",
   "metadata": {},
   "source": [
    "# Module 1 : Unix Basics, Data Access\n",
    "\n",
    "## Class Resources\n",
    "* [Course website](https://biom262.github.io) \n",
    "* Lead Instructor [Dr. Gene Yeo](mailto:geneyeo@ucsd.edu \"Gene Yeo\")  \n",
    "* Teaching Assistants [Olga Botvinnik](mailto:obotvinn@ucsd.edu) and [Jamison McCorrison](mailto:jmccorri@eng.ucsd.edu)  \n",
    "\n",
    "## Table of Contents\n",
    "* [**Day 1: January 5, 2016**]\n",
    "    * [Unix Basics](1_unix.ipynb#Unix-Basics)\n",
    "    * [TSCC User Guide (UCSD Server Access)](2_tscc_setup.ipynb#TSCC-User-Guide)\n",
    "    * [File Download and Processing Example](3_in_class_project_splice_sites_bedtools.ipynb#File-Download-and-Processing-Example)\n",
    "* [**Day 2: January 7, 2016**]\n",
    "    * [Git and Github](4_gitgoing.ipynb#Git-and-Github)\n",
    "    * [Jupyter Notebook](5_python_r_juypter_setup.ipynb#Jupyter-Notebook)\n",
    "    * [Python](6_splice_site_motifs_in_python.ipynb#A-practical-introduction-to-Python)\n",
    "* [Homework 1](homework.ipynb)\n",
    "* * *\n",
    "\n",
    "## Addtional Resources\n",
    "\n",
    "* The TSCC supercomputer system primarily uses [SLURM](http://slurm.schedmd.com/) for grid processing control.\n",
    "* Jamison recommends [Oh My Zsh](http://ohmyz.sh/) as an alternative shell for your laptop.  (Not authorized for use on TSCC.)\n"
   ]
  }
 ],
 "metadata": {
  "kernelspec": {
   "display_name": "Python 2",
   "language": "python",
   "name": "python2"
  },
  "language_info": {
   "codemirror_mode": {
    "name": "ipython",
    "version": 2
   },
   "file_extension": ".py",
   "mimetype": "text/x-python",
   "name": "python",
   "nbconvert_exporter": "python",
   "pygments_lexer": "ipython2",
   "version": "2.7.11"
  }
 },
 "nbformat": 4,
 "nbformat_minor": 0
}
