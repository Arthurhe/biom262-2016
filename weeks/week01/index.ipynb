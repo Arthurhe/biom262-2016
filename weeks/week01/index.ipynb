{
 "cells": [
  {
   "cell_type": "markdown",
   "metadata": {},
   "source": [
    "# Module 1 : Unix Basics, Data Access\n",
    "\n",
    "## Class Resources\n",
    "* [Course website](https://biom262.github.io) \n",
    "* Lead Instructor [Dr. Gene Yeo](mailto:geneyeo@ucsd.edu \"Gene Yeo\")  \n",
    "* Teaching Assistants [Olga Botvinnik](mailto:obotvinn@ucsd.edu) and [Jamison McCorrison](mailto:jmccorri@eng.ucsd.edu)  \n",
    "\n",
    "## Table of Contents\n",
    "* [**Day 1: January 5, 2016**]\n",
    "    * [Unix Basics](1_unix.ipynb#Unix-Basics)\n",
    "* [**Day 2: January 7, 2016**]\n",
    "    * [TSCC User Guide (UCSD Server Access)](2_tscc_setup.ipynb#TSCC-User-Guide)\n",
    "    * [Git and Github](3_gitgoing.ipynb#)\n",
    "    * [Jupyter Notebook Setup](4_jupyter_setup)\n",
    "    * [Jupyter Notebook Demo](5_jupyter_demo)\n",
    "* [Homework 1](homework.ipynb)\n",
    "* * *\n",
    "\n",
    "## Setup tips and tricks\n",
    "\n",
    "* Jamison + Olga recommend [Oh My Zsh](http://ohmyz.sh/) as an alternative shell for your laptop.  (Not authorized for use on TSCC.)\n",
    "* Add color to your terminal output\n",
    "    * [Mac](http://osxdaily.com/2013/02/05/improve-terminal-appearance-mac-os-x/)\n",
    "        * [Other Mac](http://osxdaily.com/2012/02/21/add-color-to-the-terminal-in-mac-os-x/) (has options for light terminal themes)\n",
    "    * TSCC and Linux. Copy this `.dircolors` file to your home directory (remember that `cd` by itself takes you to your home directory, specifically `/home/ucsd-train##/` on TSCC)\n",
    "        * `cd ; wget https://raw.githubusercontent.com/biom262/biom262-2016/master/weeks/week01/helpful_files/.dircolors`\n",
    "        * Add these lines to your `~/.bashrc`:\n",
    "```\n",
    "eval \"`dircolors -b ~/.dircolors_test`\"\n",
    "alias ls='ls --color=auto'\n",
    "alias ll='ls -lh'\n",
    "alias la='ls -lha' \n",
    "alias l='ls -CF' # .bashrc\n",
    "```\n",
    "* Use a nice monospaced (fixed-width like a typewriter) font for your terminal (Terminal on Mac/Linux, Putty/Cygwin for Windows)\n",
    "    * [List of nice monospaced fonts + side by side comparison](http://omarrr.com/top-7-open-source-monospace-fonts-for-developers/)\n",
    "    * We like Anonymous Pro, Source Sans Pro, and Inconsolata.\n",
    "    * Key characters that can be hard to distinguish in poorly designed fonts (at least for developers):\n",
    "        * `1` (\"one\")  and `l` (lowercase \"ell\")\n",
    "        * `0` (\"zero\") and `O` (uppercase \"oh\")\n",
    "*"
   ]
  },
  {
   "cell_type": "code",
   "execution_count": null,
   "metadata": {
    "collapsed": true
   },
   "outputs": [],
   "source": []
  }
 ],
 "metadata": {
  "kernelspec": {
   "display_name": "Python 3",
   "language": "python",
   "name": "python3"
  },
  "language_info": {
   "codemirror_mode": {
    "name": "ipython",
    "version": 3
   },
   "file_extension": ".py",
   "mimetype": "text/x-python",
   "name": "python",
   "nbconvert_exporter": "python",
   "pygments_lexer": "ipython3",
   "version": "3.5.1"
  }
 },
 "nbformat": 4,
 "nbformat_minor": 0
}
