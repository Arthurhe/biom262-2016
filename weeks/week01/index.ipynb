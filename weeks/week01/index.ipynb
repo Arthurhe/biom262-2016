{
 "cells": [
  {
   "cell_type": "markdown",
   "metadata": {},
   "source": [
    "# Module 1 : Unix Basics, Data Access\n",
    "\n",
    "## Class Resources\n",
    "* [Course website](https://biom262.github.io) \n",
    "* Lead Instructor [Dr. Gene Yeo](mailto:geneyeo@ucsd.edu \"Gene Yeo\")  \n",
    "* Teaching Assistants [Olga Botvinnik](mailto:obotvinn@ucsd.edu) and [Jamison McCorrison](mailto:jmccorri@eng.ucsd.edu)  \n",
    "\n",
    "## Table of Contents\n",
    "* [**Day 1: January 5, 2016**]\n",
    "    * [Unix Basics](1_unix.ipynb#Unix-Basics)\n",
    "* [**Day 2: January 7, 2016**]\n",
    "    * [TSCC User Guide (UCSD Server Access)](2_tscc_setup.ipynb#TSCC-User-Guide)\n",
    "    * [Git and Github](3_gitgoing.ipynb#)\n",
    "    * [Jupyter Notebook Setup](4_jupyter_setup)\n",
    "    * [Jupyter Notebook Demo](5_jupyter_demo)\n",
    "* [Homework 1](homework.ipynb)\n",
    "* * *\n",
    "\n",
    "## Addtional Resources\n",
    "\n",
    "* The TSCC supercomputer system primarily uses [SLURM](http://slurm.schedmd.com/) for grid processing control.\n",
    "* Jamison recommends [Oh My Zsh](http://ohmyz.sh/) as an alternative shell for your laptop.  (Not authorized for use on TSCC.)\n"
   ]
  }
 ],
 "metadata": {
  "kernelspec": {
   "display_name": "Python 3",
   "language": "python",
   "name": "python3"
  },
  "language_info": {
   "codemirror_mode": {
    "name": "ipython",
    "version": 3
   },
   "file_extension": ".py",
   "mimetype": "text/x-python",
   "name": "python",
   "nbconvert_exporter": "python",
   "pygments_lexer": "ipython3",
   "version": "3.5.1"
  }
 },
 "nbformat": 4,
 "nbformat_minor": 0
}
