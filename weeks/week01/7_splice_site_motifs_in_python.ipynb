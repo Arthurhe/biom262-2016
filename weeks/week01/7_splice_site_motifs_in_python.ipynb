{
 "cells": [
  {
   "cell_type": "markdown",
   "metadata": {},
   "source": [
    "# A practical introduction to Python\n",
    "\n",
    "By the end of this module, you'll have ...\n",
    "\n",
    "* Used Python to open files\n",
    "* \n",
    "\n",
    "* * *\n",
    "\n",
    "* **TBA - UPDATE REQ'D**\n",
    "\n",
    "\n",
    "You've created exons + splice sites in `knownGene_exons.fasta`\n",
    "\n"
   ]
  },
  {
   "cell_type": "markdown",
   "metadata": {},
   "source": [
    "Because of legacy reasons, you'll need to manually open the fasta file to read it with BioPython's SeqIO. In Python, [opening files](https://docs.python.org/3.5/tutorial/inputoutput.html#reading-and-writing-files) returns you a file object. You can manually read and write and close the file object. Until you `.close()` the file, it will stay open. It's the equivalent of leaving the peanut butter jar open on the counter - random things could get into it! So close your files :)\n",
    "\n",
    "```\n",
    "f = open(filename)\n",
    "f.read()\n",
    "f.write()\n",
    "f.close()\n",
    "```\n",
    "\n",
    "With SeqIO:\n",
    "\n",
    "```\n",
    "from Bio import SeqIO\n",
    "\n",
    "f = open(filename)\n",
    "records = SeqIO.parse(f, 'fasta')\n",
    "f.close()\n",
    "```\n",
    "But we don't want to have to remember to close the file manually, we just want the parsed file. So the file closes automatically, we'll use the [`with`](http://preshing.com/20110920/the-python-with-statement-by-example/) syntax to open the filename and parse the file:\n",
    "\n",
    "```\n",
    "with open(filename) as f:\n",
    "    records = SeqIO.parse(f, 'fasta')\n",
    "```\n",
    "\n",
    "Q: how would you open a file for writing?"
   ]
  },
  {
   "cell_type": "code",
   "execution_count": null,
   "metadata": {
    "collapsed": true
   },
   "outputs": [],
   "source": [
    "with open('~/knownGene_exons.fasta') as f:\n",
    "    records = list(SeqIO.parse(f, 'fasta'))"
   ]
  },
  {
   "cell_type": "markdown",
   "metadata": {},
   "source": [
    "* * *\n",
    "\n",
    "# In-Class Experiment : \n",
    "\n",
    "* X"
   ]
  },
  {
   "cell_type": "markdown",
   "metadata": {},
   "source": []
  },
  {
   "cell_type": "code",
   "execution_count": null,
   "metadata": {
    "collapsed": true
   },
   "outputs": [],
   "source": []
  }
 ],
 "metadata": {
  "kernelspec": {
   "display_name": "Python 3",
   "language": "python",
   "name": "python3"
  },
  "language_info": {
   "codemirror_mode": {
    "name": "ipython",
    "version": 3
   },
   "file_extension": ".py",
   "mimetype": "text/x-python",
   "name": "python",
   "nbconvert_exporter": "python",
   "pygments_lexer": "ipython3",
   "version": "3.5.1"
  }
 },
 "nbformat": 4,
 "nbformat_minor": 0
}
