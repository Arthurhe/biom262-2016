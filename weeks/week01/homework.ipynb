{
 "cells": [
  {
   "cell_type": "markdown",
   "metadata": {},
   "source": [
    "# Homework 1 : Unix Basics, Data Access, TSCC\n",
    "\n",
    "* **Homework**\n",
    "    * [Git and Github](3_gitgoing.ipynb#) \n",
    "        - To turn in: Nothing, but you have to do it to proceed\n",
    "    * [Jupyter Notebook Setup](4_jupyter_setup.ipynb) \n",
    "        - To turn in: Nothing, but you have to do it to proceed\n",
    "        - This has you clone the github repo for the class which is necessary for the next steps\n",
    "    * [Fork and clone the BIOM262 GitHub repository](5_fork_clone_biom262-2016_repo.ipynb)\n",
    "        - To turn in: Nothing, but you have to do it to proceed\n",
    "    * [Which promoters does NFKB bind in the genome?](7_tf_binding_promoters.ipynb)\n",
    "        - To turn in: Jupyter notebook of `7_tf_binding_promoters.ipynb` submitted as a Pull Request (PR) to the `biom262/biom262-2016` repository.\n",
    "    * [Bringing it all together](8_bringing_it_all_together.ipynb)\n",
    "        - To turn in: Link to a GitHub repository"
   ]
  }
 ],
 "metadata": {
  "kernelspec": {
   "display_name": "Python 3",
   "language": "python",
   "name": "python3"
  },
  "language_info": {
   "codemirror_mode": {
    "name": "ipython",
    "version": 3
   },
   "file_extension": ".py",
   "mimetype": "text/x-python",
   "name": "python",
   "nbconvert_exporter": "python",
   "pygments_lexer": "ipython3",
   "version": "3.5.1"
  }
 },
 "nbformat": 4,
 "nbformat_minor": 0
}
