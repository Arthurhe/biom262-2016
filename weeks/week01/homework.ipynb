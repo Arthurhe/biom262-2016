{
 "cells": [
  {
   "cell_type": "markdown",
   "metadata": {},
   "source": [
    "# BIOM262 Homework 1\n",
    "\n",
    "## Unix\n",
    "\n",
    "\n",
    "The purpose of this homework is to familiarize yourself with the different commands available on all UNIX machines. This is not meant to teach you how to use each command at an expert level, but rather to show you that these commands exist.\n",
    "\n",
    "1. cd\n",
    "2. echo\n",
    "2. cp\n",
    "3. mv\n",
    "4. pwd\n",
    "2. ls\n",
    "3. ln\n",
    "8. chmod\n",
    "9. ps\n",
    "10. kill\n",
    "11. killall\n",
    "11. gzip\n",
    "12. gunzip\n",
    "13. zcat\n",
    "12. history\n",
    "13. whoami\n",
    "14. df\n",
    "15. du\n",
    "16. alias\n",
    "17. top\n",
    "18. rm\n",
    "19. less\n",
    "20. more\n",
    "20. wc\n",
    "\n",
    "5. grep\n",
    "6. awk\n",
    "22. head\n",
    "23. tail\n",
    "24. expand\n",
    "25. cut\n",
    "26. paste\n",
    "17. uptime\n",
    "18. whatis\n",
    "20. which\n",
    "\n",
    "Plus 10 commands of your choice. [Here](http://www.math.harvard.edu/computing/unix/unixcommands.html) is a nice list of all possible commands.\n"
   ]
  },
  {
   "cell_type": "markdown",
   "metadata": {
    "collapsed": true
   },
   "source": [
    "## Git\n",
    "\n",
    "1. Read sections 10-12 from Software Carpentry's [Git intro](http://swcarpentry.github.io/git-novice/index.html).\n",
    "2. Create a new github repo with a name of your choice, a `README.md` and `LICENSE` file (Use the [UCSD license](https://confluence.crbs.ucsd.edu/display/CRBS/Releasing+Open+Source+Software+at+UCSD))"
   ]
  },
  {
   "cell_type": "markdown",
   "metadata": {},
   "source": [
    "## Python\n"
   ]
  }
 ],
 "metadata": {
  "kernelspec": {
   "display_name": "IPython (Python 3)",
   "language": "python",
   "name": "python3"
  },
  "language_info": {
   "codemirror_mode": {
    "name": "ipython",
    "version": 3
   },
   "file_extension": ".py",
   "mimetype": "text/x-python",
   "name": "python",
   "nbconvert_exporter": "python",
   "pygments_lexer": "ipython3",
   "version": "3.4.3"
  }
 },
 "nbformat": 4,
 "nbformat_minor": 0
}
