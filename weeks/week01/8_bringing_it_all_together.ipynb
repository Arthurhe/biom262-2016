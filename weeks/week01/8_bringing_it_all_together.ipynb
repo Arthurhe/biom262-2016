{
 "cells": [
  {
   "cell_type": "markdown",
   "metadata": {},
   "source": [
    "# Git/GitHub + `bedtools` +TSCC + YOU!\n",
    "\n",
    "To bring it all together, you will combine everything you've learned so far about UNIX, bash shell, TSCC, git, and github to collaboratively write a submitter script to TSCC.\n",
    "\n",
    "1. Identify your randomly assigned partner that was emailed out.\n",
    "2. Pick one person to be reponsible for exercises 1-3 from `6_tf_binding_promoters.ipynb` (person1) and the the other to be responsible for exercises 4-6 (person2)\n",
    "3. Have person1 create a GitHub repo called `biom262-hw1` and write a short `README.md` file\n",
    "4. Have person2 add a LICENSE file\n",
    "5. Collaboratively work on a submitter script called `tf_binding.sh` to TSCC which has all the `##PBS` flags shown in the TSCC Quick Start Guide below, and contribute the lines of code that you are responsible for. Use `git blame tf_binding.sh` to make sure person1 is to \"blame\" for exercises 1-3 and person2 is to \"blame\" for exercises 4-5. The \"blame\" of the remaining file doesn't matter.\n",
    "6. Your final repository should have three files:\n",
    "\n",
    "```\n",
    "LICENSE\n",
    "README.txt\n",
    "tf_binding.sh\n",
    "```\n",
    "\n",
    "Resources for TSCC:\n",
    "* [TSCC Quick Start guide](http://www.sdsc.edu/support/user_guides/tscc-quick-start.html)\n",
    "* [TSCC User Guide](http://www.sdsc.edu/support/user_guides/tscc.html)"
   ]
  }
 ],
 "metadata": {
  "kernelspec": {
   "display_name": "Python 3",
   "language": "python",
   "name": "python3"
  },
  "language_info": {
   "codemirror_mode": {
    "name": "ipython",
    "version": 3
   },
   "file_extension": ".py",
   "mimetype": "text/x-python",
   "name": "python",
   "nbconvert_exporter": "python",
   "pygments_lexer": "ipython3",
   "version": "3.5.1"
  }
 },
 "nbformat": 4,
 "nbformat_minor": 0
}
